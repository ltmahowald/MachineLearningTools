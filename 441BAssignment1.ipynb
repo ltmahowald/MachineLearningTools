{
  "nbformat": 4,
  "nbformat_minor": 0,
  "metadata": {
    "colab": {
      "provenance": []
    },
    "kernelspec": {
      "name": "python3",
      "display_name": "Python 3"
    },
    "language_info": {
      "name": "python"
    }
  },
  "cells": [
    {
      "cell_type": "code",
      "execution_count": 11,
      "metadata": {
        "id": "HeKq277Jh2ns"
      },
      "outputs": [],
      "source": [
        "import pandas as pd\n",
        "from google.colab import drive\n",
        "import numpy as np\n",
        "import matplotlib.pyplot as plt\n"
      ]
    },
    {
      "cell_type": "code",
      "source": [
        "drive.mount('/content/gdrive/', force_remount = True)"
      ],
      "metadata": {
        "colab": {
          "base_uri": "https://localhost:8080/"
        },
        "id": "jQVUn16Rh8eQ",
        "outputId": "5a12dec9-6539-4251-aafd-4b4cf4cc84b1"
      },
      "execution_count": 2,
      "outputs": [
        {
          "output_type": "stream",
          "name": "stdout",
          "text": [
            "Mounted at /content/gdrive/\n"
          ]
        }
      ]
    },
    {
      "cell_type": "code",
      "source": [
        "df = pd.read_csv('/content/gdrive/MyDrive/Econ441B/GapminderData3.csv')"
      ],
      "metadata": {
        "id": "sn5wsXAniFzo"
      },
      "execution_count": 8,
      "outputs": []
    },
    {
      "cell_type": "code",
      "source": [
        "plt.figure(figsize= (14, 6))\n",
        "plt.hist(df['hdi'], alpha= .5, bins= \"fd\")\n",
        "plt.title(\"Human Development Indexes Worldwide 1950-2018\")\n",
        "plt.ylabel(\"Frequency\")\n",
        "plt.xlabel(\"HDI\")\n",
        "plt.grid()"
      ],
      "metadata": {
        "colab": {
          "base_uri": "https://localhost:8080/",
          "height": 387
        },
        "id": "EZhEJk-ojx11",
        "outputId": "ac4f4496-b68f-414f-a8f4-51a5f6cb2f31"
      },
      "execution_count": 13,
      "outputs": [
        {
          "output_type": "display_data",
          "data": {
            "text/plain": [
              "<Figure size 1008x432 with 1 Axes>"
            ],
            "image/png": "[encoded data removed]"
          },
          "metadata": {
            "needs_background": "light"
          }
        }
      ]
    },
    {
      "cell_type": "markdown",
      "source": [
        "Human Development Indexes tend to skew left, which tells us that most countries have relatively high HDIs"
      ],
      "metadata": {
        "id": "Gl-iNPIukV5s"
      }
    },
    {
      "cell_type": "code",
      "source": [],
      "metadata": {
        "id": "2BLyfMoIkfcv"
      },
      "execution_count": null,
      "outputs": []
    }
  ]
}